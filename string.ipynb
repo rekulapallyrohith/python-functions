{
 "cells": [
  {
   "cell_type": "code",
   "execution_count": 1,
   "id": "baf620de",
   "metadata": {},
   "outputs": [],
   "source": [
    "x = 'name'"
   ]
  },
  {
   "cell_type": "code",
   "execution_count": 4,
   "id": "009ac73e",
   "metadata": {},
   "outputs": [
    {
     "data": {
      "text/plain": [
       "str"
      ]
     },
     "execution_count": 4,
     "metadata": {},
     "output_type": "execute_result"
    }
   ],
   "source": [
    "type(y)"
   ]
  },
  {
   "cell_type": "code",
   "execution_count": 3,
   "id": "b0ba4a4a",
   "metadata": {},
   "outputs": [],
   "source": [
    "y = \"imalsostring\""
   ]
  },
  {
   "cell_type": "code",
   "execution_count": 5,
   "id": "78870059",
   "metadata": {},
   "outputs": [],
   "source": [
    "z = '''me too'''"
   ]
  },
  {
   "cell_type": "code",
   "execution_count": 6,
   "id": "ca053b87",
   "metadata": {},
   "outputs": [
    {
     "data": {
      "text/plain": [
       "str"
      ]
     },
     "execution_count": 6,
     "metadata": {},
     "output_type": "execute_result"
    }
   ],
   "source": [
    "type(z)"
   ]
  },
  {
   "cell_type": "code",
   "execution_count": 7,
   "id": "af4687b6",
   "metadata": {},
   "outputs": [],
   "source": [
    "a = \"\"\"me too........\"\"\""
   ]
  },
  {
   "cell_type": "code",
   "execution_count": 8,
   "id": "59668cef",
   "metadata": {},
   "outputs": [
    {
     "data": {
      "text/plain": [
       "str"
      ]
     },
     "execution_count": 8,
     "metadata": {},
     "output_type": "execute_result"
    }
   ],
   "source": [
    "type(a)"
   ]
  },
  {
   "cell_type": "code",
   "execution_count": null,
   "id": "1d1039a9",
   "metadata": {},
   "outputs": [],
   "source": [
    "x =   \"\"\"am\n",
    "         a\n",
    "         string\n",
    "\n",
    "      \"\"\""
   ]
  },
  {
   "cell_type": "code",
   "execution_count": 13,
   "id": "43d4f1c8",
   "metadata": {},
   "outputs": [
    {
     "data": {
      "text/plain": [
       "'am\\n\\n         a\\n\\n         string\\n\\n\\n      '"
      ]
     },
     "execution_count": 13,
     "metadata": {},
     "output_type": "execute_result"
    }
   ],
   "source": [
    "x"
   ]
  },
  {
   "cell_type": "code",
   "execution_count": null,
   "id": "e867433a",
   "metadata": {},
   "outputs": [],
   "source": [
    "word = 'madam'"
   ]
  },
  {
   "cell_type": "code",
   "execution_count": 17,
   "id": "8a337c33",
   "metadata": {},
   "outputs": [
    {
     "data": {
      "text/plain": [
       "'M'"
      ]
     },
     "execution_count": 17,
     "metadata": {},
     "output_type": "execute_result"
    }
   ],
   "source": [
    "word[-1]"
   ]
  },
  {
   "cell_type": "code",
   "execution_count": 23,
   "id": "f901aee6",
   "metadata": {},
   "outputs": [],
   "source": [
    "word = 'madam'"
   ]
  },
  {
   "cell_type": "code",
   "execution_count": 24,
   "id": "5af61533",
   "metadata": {},
   "outputs": [
    {
     "data": {
      "text/plain": [
       "'madam'"
      ]
     },
     "execution_count": 24,
     "metadata": {},
     "output_type": "execute_result"
    }
   ],
   "source": [
    "word[::-1]"
   ]
  },
  {
   "cell_type": "code",
   "execution_count": 25,
   "id": "2f02a962",
   "metadata": {},
   "outputs": [
    {
     "data": {
      "text/plain": [
       "True"
      ]
     },
     "execution_count": 25,
     "metadata": {},
     "output_type": "execute_result"
    }
   ],
   "source": [
    "word == word[::-1]"
   ]
  },
  {
   "cell_type": "code",
   "execution_count": 26,
   "id": "b03abfd7",
   "metadata": {},
   "outputs": [],
   "source": [
    "name = \"dev\"\n",
    "age = 25\n",
    "qualification = 'btech'"
   ]
  },
  {
   "cell_type": "markdown",
   "id": "c81e4859",
   "metadata": {},
   "source": [
    "hello my name is ....., my qualification is ....."
   ]
  },
  {
   "cell_type": "code",
   "execution_count": null,
   "id": "403fefbd",
   "metadata": {},
   "outputs": [
    {
     "data": {
      "text/plain": [
       "'hello my name isdevmy qualification isbtech'"
      ]
     },
     "execution_count": 29,
     "metadata": {},
     "output_type": "execute_result"
    }
   ],
   "source": [
    "\"hello my name is\"  +  name  + \"my qualification is\"  +  qualification"
   ]
  },
  {
   "cell_type": "code",
   "execution_count": 30,
   "id": "71b48a2e",
   "metadata": {},
   "outputs": [
    {
     "data": {
      "text/plain": [
       "'hello my name is dev, my qualification is btech'"
      ]
     },
     "execution_count": 30,
     "metadata": {},
     "output_type": "execute_result"
    }
   ],
   "source": [
    "f\"hello my name is {name}, my qualification is {qualification}\""
   ]
  },
  {
   "cell_type": "code",
   "execution_count": 31,
   "id": "168bfc59",
   "metadata": {},
   "outputs": [],
   "source": [
    "x = 'name, test, 1'"
   ]
  },
  {
   "cell_type": "code",
   "execution_count": null,
   "id": "8bb73781",
   "metadata": {},
   "outputs": [
    {
     "data": {
      "text/plain": [
       "['name', ' test', ' 1']"
      ]
     },
     "execution_count": 32,
     "metadata": {},
     "output_type": "execute_result"
    }
   ],
   "source": [
    "x.split(',')"
   ]
  },
  {
   "cell_type": "code",
   "execution_count": 33,
   "id": "ebf9ad5d",
   "metadata": {},
   "outputs": [],
   "source": [
    "colors = ['white','black', 'red']"
   ]
  },
  {
   "cell_type": "code",
   "execution_count": 34,
   "id": "9bce1c93",
   "metadata": {},
   "outputs": [
    {
     "data": {
      "text/plain": [
       "'white,black,red'"
      ]
     },
     "execution_count": 34,
     "metadata": {},
     "output_type": "execute_result"
    }
   ],
   "source": [
    "','.join(colors)"
   ]
  },
  {
   "cell_type": "code",
   "execution_count": null,
   "id": "3472d70e",
   "metadata": {},
   "outputs": [],
   "source": [
    "x = 'python'"
   ]
  },
  {
   "cell_type": "code",
   "execution_count": 37,
   "id": "44a63f0a",
   "metadata": {},
   "outputs": [
    {
     "data": {
      "text/plain": [
       "'python'"
      ]
     },
     "execution_count": 37,
     "metadata": {},
     "output_type": "execute_result"
    }
   ],
   "source": [
    "x.lower()"
   ]
  },
  {
   "cell_type": "code",
   "execution_count": 38,
   "id": "f10ecab3",
   "metadata": {},
   "outputs": [],
   "source": [
    "x = 'python'"
   ]
  },
  {
   "cell_type": "code",
   "execution_count": 39,
   "id": "2c348bf1",
   "metadata": {},
   "outputs": [
    {
     "data": {
      "text/plain": [
       "'Python'"
      ]
     },
     "execution_count": 39,
     "metadata": {},
     "output_type": "execute_result"
    }
   ],
   "source": [
    "x.capitalize()"
   ]
  },
  {
   "cell_type": "code",
   "execution_count": 40,
   "id": "20c74aae",
   "metadata": {},
   "outputs": [],
   "source": [
    "x = 'madam'\n",
    "y = 'Madam'"
   ]
  },
  {
   "cell_type": "code",
   "execution_count": 41,
   "id": "db7055e8",
   "metadata": {},
   "outputs": [
    {
     "data": {
      "text/plain": [
       "False"
      ]
     },
     "execution_count": 41,
     "metadata": {},
     "output_type": "execute_result"
    }
   ],
   "source": [
    "x == y"
   ]
  },
  {
   "cell_type": "code",
   "execution_count": 44,
   "id": "c78ec2d7",
   "metadata": {},
   "outputs": [
    {
     "data": {
      "text/plain": [
       "True"
      ]
     },
     "execution_count": 44,
     "metadata": {},
     "output_type": "execute_result"
    }
   ],
   "source": [
    "x.upper() == y.upper()"
   ]
  },
  {
   "cell_type": "code",
   "execution_count": 45,
   "id": "f1c86baf",
   "metadata": {},
   "outputs": [],
   "source": [
    "x = [1,2,3,4,5]"
   ]
  },
  {
   "cell_type": "code",
   "execution_count": 47,
   "id": "9495dbf4",
   "metadata": {},
   "outputs": [
    {
     "data": {
      "text/plain": [
       "True"
      ]
     },
     "execution_count": 47,
     "metadata": {},
     "output_type": "execute_result"
    }
   ],
   "source": [
    "1 in x"
   ]
  },
  {
   "cell_type": "code",
   "execution_count": 48,
   "id": "41c3f875",
   "metadata": {},
   "outputs": [],
   "source": [
    "y = 'Madam'"
   ]
  },
  {
   "cell_type": "code",
   "execution_count": 52,
   "id": "cedddf68",
   "metadata": {},
   "outputs": [
    {
     "data": {
      "text/plain": [
       "False"
      ]
     },
     "execution_count": 52,
     "metadata": {},
     "output_type": "execute_result"
    }
   ],
   "source": [
    "'=' in y"
   ]
  },
  {
   "cell_type": "code",
   "execution_count": 53,
   "id": "2802b35e",
   "metadata": {},
   "outputs": [],
   "source": [
    "a = \"      madam        \""
   ]
  },
  {
   "cell_type": "code",
   "execution_count": 54,
   "id": "e8a11496",
   "metadata": {},
   "outputs": [],
   "source": [
    "b = \"########madam##########\""
   ]
  },
  {
   "cell_type": "code",
   "execution_count": 57,
   "id": "6aa3411b",
   "metadata": {},
   "outputs": [
    {
     "data": {
      "text/plain": [
       "'      madam        '"
      ]
     },
     "execution_count": 57,
     "metadata": {},
     "output_type": "execute_result"
    }
   ],
   "source": [
    "a"
   ]
  },
  {
   "cell_type": "code",
   "execution_count": 61,
   "id": "f707d2df",
   "metadata": {},
   "outputs": [
    {
     "data": {
      "text/plain": [
       "'madam'"
      ]
     },
     "execution_count": 61,
     "metadata": {},
     "output_type": "execute_result"
    }
   ],
   "source": [
    "a.strip()"
   ]
  },
  {
   "cell_type": "code",
   "execution_count": 63,
   "id": "ff25f40b",
   "metadata": {},
   "outputs": [
    {
     "data": {
      "text/plain": [
       "'      madam'"
      ]
     },
     "execution_count": 63,
     "metadata": {},
     "output_type": "execute_result"
    }
   ],
   "source": [
    "a.rstrip()"
   ]
  },
  {
   "cell_type": "code",
   "execution_count": 67,
   "id": "7e87ee48",
   "metadata": {},
   "outputs": [
    {
     "data": {
      "text/plain": [
       "'########madam'"
      ]
     },
     "execution_count": 67,
     "metadata": {},
     "output_type": "execute_result"
    }
   ],
   "source": [
    "b.rstrip('#')"
   ]
  },
  {
   "cell_type": "code",
   "execution_count": 72,
   "id": "426bc0ab",
   "metadata": {},
   "outputs": [],
   "source": [
    "message = 'I\\'m doing good'"
   ]
  },
  {
   "cell_type": "code",
   "execution_count": 73,
   "id": "81277c96",
   "metadata": {},
   "outputs": [
    {
     "data": {
      "text/plain": [
       "\"I'm doing good\""
      ]
     },
     "execution_count": 73,
     "metadata": {},
     "output_type": "execute_result"
    }
   ],
   "source": [
    "message"
   ]
  },
  {
   "cell_type": "code",
   "execution_count": 74,
   "id": "3e4311f4",
   "metadata": {},
   "outputs": [],
   "source": [
    "message = \"hello how are you \\n im doing good\""
   ]
  },
  {
   "cell_type": "code",
   "execution_count": 76,
   "id": "551264e1",
   "metadata": {},
   "outputs": [
    {
     "name": "stdout",
     "output_type": "stream",
     "text": [
      "hello how are you \n",
      " im doing good\n"
     ]
    }
   ],
   "source": [
    "print(message)"
   ]
  },
  {
   "cell_type": "code",
   "execution_count": 78,
   "id": "8f9de909",
   "metadata": {},
   "outputs": [],
   "source": [
    "message = \"hello \\thow are you  im doing good\""
   ]
  },
  {
   "cell_type": "code",
   "execution_count": 79,
   "id": "8fb092a3",
   "metadata": {},
   "outputs": [
    {
     "name": "stdout",
     "output_type": "stream",
     "text": [
      "hello \thow are you  im doing good\n"
     ]
    }
   ],
   "source": [
    "print(message)"
   ]
  },
  {
   "cell_type": "code",
   "execution_count": 80,
   "id": "44713247",
   "metadata": {},
   "outputs": [],
   "source": [
    "linux_path = \"etc/service/test\""
   ]
  },
  {
   "cell_type": "code",
   "execution_count": 81,
   "id": "dd63c97d",
   "metadata": {},
   "outputs": [
    {
     "name": "stdout",
     "output_type": "stream",
     "text": [
      "etc/service/test\n"
     ]
    }
   ],
   "source": [
    "print(linux_path)"
   ]
  },
  {
   "cell_type": "code",
   "execution_count": null,
   "id": "c6449fb7",
   "metadata": {},
   "outputs": [],
   "source": [
    "windows_path = \"c:\\temp\\python-practice\\python-demo\""
   ]
  },
  {
   "cell_type": "code",
   "execution_count": 85,
   "id": "0da740ab",
   "metadata": {},
   "outputs": [
    {
     "name": "stdout",
     "output_type": "stream",
     "text": [
      "c:\\temp\\python-practice\\python-demo\n"
     ]
    }
   ],
   "source": [
    "print(windows_path)"
   ]
  },
  {
   "cell_type": "code",
   "execution_count": 84,
   "id": "8a3f8e6b",
   "metadata": {},
   "outputs": [],
   "source": [
    "windows_path = \"c:\\\\temp\\python-practice\\python-demo\""
   ]
  },
  {
   "cell_type": "code",
   "execution_count": 86,
   "id": "6c31bc12",
   "metadata": {},
   "outputs": [],
   "source": [
    "windows_path = r\"c:\\temp\\python-practice\\python-demo\""
   ]
  },
  {
   "cell_type": "code",
   "execution_count": 87,
   "id": "d76543c0",
   "metadata": {},
   "outputs": [
    {
     "name": "stdout",
     "output_type": "stream",
     "text": [
      "c:\\temp\\python-practice\\python-demo\n"
     ]
    }
   ],
   "source": [
    "print(windows_path)"
   ]
  },
  {
   "cell_type": "markdown",
   "id": "345cd65e",
   "metadata": {},
   "source": [
    "Dunder methods or members\n",
    "\n",
    "__name__\n",
    "__init__\n",
    "__new__\n",
    "\n",
    "if __name__ == \"__main__\":\n",
    "\n",
    "\n",
    "\n"
   ]
  },
  {
   "cell_type": "code",
   "execution_count": 114,
   "id": "e7e09430",
   "metadata": {},
   "outputs": [
    {
     "name": "stdout",
     "output_type": "stream",
     "text": [
      "12345\n"
     ]
    }
   ],
   "source": [
    "n = 5\n",
    "result = 0\n",
    "for index in range(1, n+1):\n",
    "    result = result*10 + index\n",
    "print(result)"
   ]
  }
 ],
 "metadata": {
  "kernelspec": {
   "display_name": "Python 3",
   "language": "python",
   "name": "python3"
  },
  "language_info": {
   "codemirror_mode": {
    "name": "ipython",
    "version": 3
   },
   "file_extension": ".py",
   "mimetype": "text/x-python",
   "name": "python",
   "nbconvert_exporter": "python",
   "pygments_lexer": "ipython3",
   "version": "3.11.9"
  }
 },
 "nbformat": 4,
 "nbformat_minor": 5
}
